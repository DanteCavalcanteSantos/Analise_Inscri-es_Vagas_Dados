{
 "cells": [
  {
   "cell_type": "markdown",
   "id": "3795299b",
   "metadata": {},
   "source": [
    "#Analise de Caracteres"
   ]
  },
  {
   "cell_type": "code",
   "execution_count": null,
   "id": "adbadfee",
   "metadata": {},
   "outputs": [],
   "source": [
    "#Importando bibliotecas\n",
    "import pandas as pd\n",
    "from collections import Counter\n",
    "import re\n",
    "#biblioteca para remover as conjunções e preposições\n",
    "import nltk"
   ]
  },
  {
   "cell_type": "code",
   "execution_count": 29,
   "id": "b301b523",
   "metadata": {},
   "outputs": [
    {
     "name": "stderr",
     "output_type": "stream",
     "text": [
      "[nltk_data] Downloading package stopwords to\n",
      "[nltk_data]     C:\\Users\\dante\\AppData\\Roaming\\nltk_data...\n",
      "[nltk_data]   Unzipping corpora\\stopwords.zip.\n"
     ]
    }
   ],
   "source": [
    "#baixando a biblioteca stopwords\n",
    "nltk.download('stopwords')\n",
    "from nltk.corpus import stopwords\n",
    "stop_words = set(stopwords.words('portuguese'))"
   ]
  },
  {
   "cell_type": "code",
   "execution_count": 16,
   "id": "4c0c1c36",
   "metadata": {},
   "outputs": [],
   "source": [
    "#Lendo o arquivo Excel\n",
    "\n",
    "df = pd.read_excel(r'C:\\Users\\dante\\OneDrive\\Documentos\\9. Meus Projetos\\Projetos Python\\Controle de Vagas\\Competencias_Vagas.xlsx', sheet_name='Competência empresas')\n"
   ]
  },
  {
   "cell_type": "code",
   "execution_count": 17,
   "id": "1e59eb9e",
   "metadata": {},
   "outputs": [
    {
     "name": "stdout",
     "output_type": "stream",
     "text": [
      "['Competências']\n"
     ]
    }
   ],
   "source": [
    "# Mostrando a coluna do DataFrame\n",
    "\n",
    "print(list(df.columns))\n"
   ]
  },
  {
   "cell_type": "code",
   "execution_count": 20,
   "id": "10460ac5",
   "metadata": {},
   "outputs": [],
   "source": [
    "#Agrupando todo o texto da coluna 'Competências' em uma única string\n",
    "\n",
    "texto = ' '.join(df['Competências'].astype(str))"
   ]
  },
  {
   "cell_type": "code",
   "execution_count": 23,
   "id": "eadb8292",
   "metadata": {},
   "outputs": [],
   "source": [
    "#Limpeza básica do texto\n",
    "palavras = re.findall(r'\\b[a-zA-Zá-úÁ-Ú]+\\b', texto.lower())"
   ]
  },
  {
   "cell_type": "code",
   "execution_count": 30,
   "id": "8142a40d",
   "metadata": {},
   "outputs": [],
   "source": [
    "#filtrando as stopwords\n",
    "palavras_filtradas = [p for p in palavras if p not in stop_words]"
   ]
  },
  {
   "cell_type": "code",
   "execution_count": 31,
   "id": "8a915483",
   "metadata": {},
   "outputs": [],
   "source": [
    "#contagem das palavras\n",
    "\n",
    "contagem = Counter(palavras_filtradas)"
   ]
  },
  {
   "cell_type": "code",
   "execution_count": null,
   "id": "4f4046bf",
   "metadata": {},
   "outputs": [
    {
     "name": "stdout",
     "output_type": "stream",
     "text": [
      "      Competência  Frequência\n",
      "9           dados          81\n",
      "98    experiência          37\n",
      "97          power          26\n",
      "17            sql          26\n",
      "16   conhecimento          24\n",
      "54             bi          23\n",
      "25        análise          21\n",
      "3           áreas          19\n",
      "7     estatística          18\n",
      "126   ferramentas          17\n",
      "144    capacidade          15\n",
      "155   comunicação          14\n",
      "94         python          14\n",
      "117    habilidade          13\n",
      "101     modelagem          11\n",
      "15   visualização          11\n",
      "8         ciência          10\n",
      "225      avançado          10\n",
      "170   habilidades          10\n",
      "53     dashboards           9\n"
     ]
    }
   ],
   "source": [
    "#Criando o dataframe com a contagem das palavras\n",
    "df_frequencia = pd.DataFrame(contagem.items(), columns=[\"Competência\", \"Frequência\"]).sort_values(by=\"Frequência\", ascending=False)\n",
    "\n",
    "print(df_frequencia.head(20))"
   ]
  },
  {
   "cell_type": "code",
   "execution_count": null,
   "id": "a52fc3f2",
   "metadata": {},
   "outputs": [
    {
     "name": "stdout",
     "output_type": "stream",
     "text": [
      "dados: Indefinido\n",
      "experiência: Soft Skill\n",
      "power: Indefinido\n",
      "sql: Hard Skill\n",
      "conhecimento: Soft Skill\n",
      "bi: Hard Skill\n",
      "análise: Hard Skill\n",
      "áreas: Soft Skill\n",
      "estatística: Hard Skill\n",
      "ferramentas: Hard Skill\n",
      "capacidade: Soft Skill\n",
      "comunicação: Soft Skill\n",
      "python: Hard Skill\n",
      "habilidade: Soft Skill\n",
      "modelagem: Hard Skill\n",
      "visualização: Hard Skill\n",
      "ciência: Hard Skill\n",
      "avançado: Hard Skill\n",
      "habilidades: Soft Skill\n",
      "dashboards: Hard Skill\n"
     ]
    }
   ],
   "source": [
    "#separando hardskill de softskill com as top 20 palavras mais frequentes do dataframe\n",
    "\n",
    "hard_skills = ['SQL', 'Python', 'Power BI', 'Excel', 'Dashboards', 'Modelagem', 'Visualização', 'Estatística', 'Ferramentas', 'Análise', 'Ciência', 'BI', 'Avançado']\n",
    "soft_skills = ['Comunicação', 'Capacidade', 'Habilidade', 'Habilidades', 'Experiência', 'Conhecimento', 'Áreas']\n",
    "\n",
    "\n",
    "def classificar_skill(palavra):\n",
    "    if palavra.upper() in [skill.upper() for skill in hard_skills]:\n",
    "        return 'HardSkill'\n",
    "    elif palavra.upper() in [skill.upper() for skill in soft_skills]:\n",
    "        return 'SoftSkill'\n",
    "    else:\n",
    "        return 'HardSkill | SoftSkill'  # Classificando como Hard Skill por padrão\n",
    "\n",
    "lista_de_palavras = df_frequencia['Competência'].head(20).tolist()\n",
    "\n",
    "for palavra in lista_de_palavras:\n",
    "    print(f\"{palavra}: {classificar_skill(palavra)}\")\n",
    "\n",
    "\n"
   ]
  },
  {
   "cell_type": "code",
   "execution_count": 36,
   "id": "d3d6b5b6",
   "metadata": {},
   "outputs": [],
   "source": [
    "df_frequencia['Tipo de Competência'] = df_frequencia['Competência'].apply(classificar_skill)"
   ]
  },
  {
   "cell_type": "code",
   "execution_count": 37,
   "id": "40be6b2d",
   "metadata": {},
   "outputs": [
    {
     "name": "stdout",
     "output_type": "stream",
     "text": [
      "      Competência  Frequência Tipo de Competência\n",
      "9           dados          81          Indefinido\n",
      "98    experiência          37          Soft Skill\n",
      "97          power          26          Indefinido\n",
      "17            sql          26          Hard Skill\n",
      "16   conhecimento          24          Soft Skill\n",
      "54             bi          23          Hard Skill\n",
      "25        análise          21          Hard Skill\n",
      "3           áreas          19          Soft Skill\n",
      "7     estatística          18          Hard Skill\n",
      "126   ferramentas          17          Hard Skill\n",
      "144    capacidade          15          Soft Skill\n",
      "155   comunicação          14          Soft Skill\n",
      "94         python          14          Hard Skill\n",
      "117    habilidade          13          Soft Skill\n",
      "101     modelagem          11          Hard Skill\n",
      "15   visualização          11          Hard Skill\n",
      "8         ciência          10          Hard Skill\n",
      "225      avançado          10          Hard Skill\n",
      "170   habilidades          10          Soft Skill\n",
      "53     dashboards           9          Hard Skill\n"
     ]
    }
   ],
   "source": [
    "print(df_frequencia.head(20))"
   ]
  },
  {
   "cell_type": "code",
   "execution_count": 39,
   "id": "09d522a4",
   "metadata": {},
   "outputs": [
    {
     "name": "stderr",
     "output_type": "stream",
     "text": [
      "C:\\Users\\dante\\AppData\\Local\\Temp\\ipykernel_19032\\3736220813.py:2: UserWarning: Pandas requires version '3.0.5' or newer of 'xlsxwriter' (version '3.0.3' currently installed).\n",
      "  df_frequencia.to_excel(r'C:\\Users\\dante\\OneDrive\\Documentos\\9. Meus Projetos\\Projetos Python\\Controle de Vagas\\Frequencia_Competencias.xlsx', index=False)\n"
     ]
    }
   ],
   "source": [
    "#transformando o dataframe em um arquivo excel\n",
    "df_frequencia.to_excel(r'C:\\Users\\dante\\OneDrive\\Documentos\\9. Meus Projetos\\Projetos Python\\Controle de Vagas\\Frequencia_Competencias.xlsx', index=False)"
   ]
  }
 ],
 "metadata": {
  "kernelspec": {
   "display_name": "base",
   "language": "python",
   "name": "python3"
  },
  "language_info": {
   "codemirror_mode": {
    "name": "ipython",
    "version": 3
   },
   "file_extension": ".py",
   "mimetype": "text/x-python",
   "name": "python",
   "nbconvert_exporter": "python",
   "pygments_lexer": "ipython3",
   "version": "3.9.13"
  }
 },
 "nbformat": 4,
 "nbformat_minor": 5
}
